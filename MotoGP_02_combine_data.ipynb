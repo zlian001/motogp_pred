{
 "cells": [
  {
   "cell_type": "markdown",
   "metadata": {},
   "source": [
    "# MotoGP Regression Part 2 - Combining Separate Data Files  \n",
    "Ankur Vishwakarma  \n",
    "Metis Winter 2018"
   ]
  },
  {
   "cell_type": "markdown",
   "metadata": {},
   "source": [
    "<img src=\"http://css.motogp.com/w2015/img/logos/motogp.svg?version=a4b2faf82fe5880934375619ed3dac5aadb10ea007af6f4f770b682e0d16dbf6\" width=\"120\" align=\"left\"/>"
   ]
  },
  {
   "cell_type": "markdown",
   "metadata": {},
   "source": [
    "In this notebook, all the separate CSVs from scraped sites are combined. Each year's results data is loaded and then cleaned. Additional data is brought in from the Racetrack_data.csv file. Lastly, all dataframes are combined into one large dataframe with all the data."
   ]
  },
  {
   "cell_type": "code",
   "execution_count": 1,
   "metadata": {},
   "outputs": [],
   "source": [
    "# import necessary modules\n",
    "import time\n",
    "from pprint import pprint\n",
    "import numpy as np\n",
    "import pandas as pd\n",
    "from datetime import datetime, timedelta\n",
    "import calendar"
   ]
  },
  {
   "cell_type": "code",
   "execution_count": 2,
   "metadata": {},
   "outputs": [],
   "source": [
    "# load racetrack data that'll be needed for all the results files\n",
    "rc = pd.read_csv('Racetrack_data.csv', index_col=0)"
   ]
  },
  {
   "cell_type": "code",
   "execution_count": 3,
   "metadata": {
    "scrolled": true
   },
   "outputs": [
    {
     "data": {
      "text/html": [
       "<div>\n",
       "<style scoped>\n",
       "    .dataframe tbody tr th:only-of-type {\n",
       "        vertical-align: middle;\n",
       "    }\n",
       "\n",
       "    .dataframe tbody tr th {\n",
       "        vertical-align: top;\n",
       "    }\n",
       "\n",
       "    .dataframe thead th {\n",
       "        text-align: right;\n",
       "    }\n",
       "</style>\n",
       "<table border=\"1\" class=\"dataframe\">\n",
       "  <thead>\n",
       "    <tr style=\"text-align: right;\">\n",
       "      <th></th>\n",
       "      <th>GP</th>\n",
       "      <th>track_length_km</th>\n",
       "      <th>l_corners</th>\n",
       "      <th>r_corners</th>\n",
       "      <th>width_m</th>\n",
       "      <th>straight_m</th>\n",
       "      <th>GP_avg_speed</th>\n",
       "      <th>gp_dist</th>\n",
       "      <th>m2_dist</th>\n",
       "      <th>m3_dist</th>\n",
       "    </tr>\n",
       "  </thead>\n",
       "  <tbody>\n",
       "    <tr>\n",
       "      <th>0</th>\n",
       "      <td>GBR - Silverstone Circuit</td>\n",
       "      <td>5.9</td>\n",
       "      <td>8</td>\n",
       "      <td>10</td>\n",
       "      <td>15.0</td>\n",
       "      <td>770.0</td>\n",
       "      <td>173.7</td>\n",
       "      <td>118.0</td>\n",
       "      <td>106.2</td>\n",
       "      <td>100.3</td>\n",
       "    </tr>\n",
       "    <tr>\n",
       "      <th>1</th>\n",
       "      <td>NED - TT Circuit Assen</td>\n",
       "      <td>4.5</td>\n",
       "      <td>6</td>\n",
       "      <td>12</td>\n",
       "      <td>14.0</td>\n",
       "      <td>487.0</td>\n",
       "      <td>169.9</td>\n",
       "      <td>118.1</td>\n",
       "      <td>109.0</td>\n",
       "      <td>99.9</td>\n",
       "    </tr>\n",
       "    <tr>\n",
       "      <th>2</th>\n",
       "      <td>AUS - Phillip Island</td>\n",
       "      <td>4.4</td>\n",
       "      <td>7</td>\n",
       "      <td>5</td>\n",
       "      <td>13.0</td>\n",
       "      <td>900.0</td>\n",
       "      <td>176.4</td>\n",
       "      <td>120.1</td>\n",
       "      <td>111.2</td>\n",
       "      <td>102.3</td>\n",
       "    </tr>\n",
       "    <tr>\n",
       "      <th>3</th>\n",
       "      <td>ITA - Autodromo del Mugello</td>\n",
       "      <td>5.2</td>\n",
       "      <td>6</td>\n",
       "      <td>9</td>\n",
       "      <td>14.0</td>\n",
       "      <td>1141.0</td>\n",
       "      <td>174.2</td>\n",
       "      <td>120.6</td>\n",
       "      <td>110.1</td>\n",
       "      <td>104.9</td>\n",
       "    </tr>\n",
       "    <tr>\n",
       "      <th>4</th>\n",
       "      <td>AME - Circuit Of The Americas</td>\n",
       "      <td>5.5</td>\n",
       "      <td>11</td>\n",
       "      <td>9</td>\n",
       "      <td>15.0</td>\n",
       "      <td>1200.0</td>\n",
       "      <td>157.9</td>\n",
       "      <td>115.8</td>\n",
       "      <td>104.7</td>\n",
       "      <td>99.2</td>\n",
       "    </tr>\n",
       "  </tbody>\n",
       "</table>\n",
       "</div>"
      ],
      "text/plain": [
       "                              GP  track_length_km  l_corners  r_corners  \\\n",
       "0      GBR - Silverstone Circuit              5.9          8         10   \n",
       "1         NED - TT Circuit Assen              4.5          6         12   \n",
       "2           AUS - Phillip Island              4.4          7          5   \n",
       "3    ITA - Autodromo del Mugello              5.2          6          9   \n",
       "4  AME - Circuit Of The Americas              5.5         11          9   \n",
       "\n",
       "   width_m  straight_m  GP_avg_speed  gp_dist  m2_dist  m3_dist  \n",
       "0     15.0       770.0         173.7    118.0    106.2    100.3  \n",
       "1     14.0       487.0         169.9    118.1    109.0     99.9  \n",
       "2     13.0       900.0         176.4    120.1    111.2    102.3  \n",
       "3     14.0      1141.0         174.2    120.6    110.1    104.9  \n",
       "4     15.0      1200.0         157.9    115.8    104.7     99.2  "
      ]
     },
     "execution_count": 3,
     "metadata": {},
     "output_type": "execute_result"
    }
   ],
   "source": [
    "rc.head()"
   ]
  },
  {
   "cell_type": "code",
   "execution_count": 7,
   "metadata": {},
   "outputs": [],
   "source": [
    "# define the years we want to combine data for\n",
    "years = ['2005', '2006', '2007', '2008', '2009', '2010', '2011', '2012', '2013', '2014', '2015', '2016', '2017']\n",
    "\n",
    "# function to parse dates as we read in results csv files\n",
    "def dateparser(dstr):\n",
    "    \"\"\" Returns a datetime object for any date string in the format\n",
    "        Month, dd, yyyy \"\"\"\n",
    "    d = dict((v,k) for k,v in enumerate(calendar.month_name))\n",
    "    if type(dstr) != float:\n",
    "        mon, dd, yyyy = dstr.split(',')\n",
    "        date_str = '/'.join([str(d[mon]), dd, yyyy])\n",
    "        return pd.to_datetime(date_str, format='%m/%d/%Y')\n",
    "    else:\n",
    "        pass\n",
    "    return None\n",
    "\n",
    "# function that'll help determine which string values are actually numbers\n",
    "def isNumber(x):\n",
    "    if pd.isnull(x):\n",
    "        return False\n",
    "    try:\n",
    "        float(x)\n",
    "        return True\n",
    "    except ValueError:\n",
    "        pass\n",
    "    return False\n",
    "\n",
    "def subset(string, chars):\n",
    "    if pd.isnull(string):\n",
    "        return None\n",
    "    else:\n",
    "        return string[:chars]\n",
    "\n",
    "# function that'll convert finishing time into a proper timedelta value\n",
    "def timeparser(time_series):\n",
    "    \n",
    "    new_time = []\n",
    "    for index, item in enumerate(time_series):\n",
    "        prev_case = True\n",
    "        if pd.isnull(item):\n",
    "            new_time.append(None)\n",
    "            continue\n",
    "        \n",
    "        if 'Lap' in item:\n",
    "            new_time.append(None)\n",
    "            prev_case = False\n",
    "            \n",
    "        if ('+' in item) & (\"'\" not in item):\n",
    "            t = datetime.strptime(item, \"+%S.%f\")\n",
    "            t_delta = timedelta(hours=t.hour, minutes=t.minute,seconds=t.second, microseconds=t.microsecond)\n",
    "            t_delta = t_delta + base_delta\n",
    "            new_time.append(t_delta)\n",
    "            prev_case = False\n",
    "            \n",
    "        if ('+' in item) & (\"'\" in item):\n",
    "            t = datetime.strptime(item, \"+%M'%S.%f\")\n",
    "            t_delta = timedelta(hours=t.hour, minutes=t.minute,seconds=t.second, microseconds=t.microsecond)\n",
    "            t_delta = t_delta + base_delta\n",
    "            new_time.append(t_delta)\n",
    "            prev_case = False\n",
    "            \n",
    "        if prev_case:\n",
    "            base_time = datetime.strptime(item, \"%M'%S.%f\")\n",
    "            base_delta = timedelta(hours=base_time.hour, minutes=base_time.minute,\n",
    "                                   seconds=base_time.second, microseconds=base_time.microsecond)\n",
    "            new_time.append(base_delta)\n",
    "            \n",
    "    return new_time"
   ]
  },
  {
   "cell_type": "code",
   "execution_count": 8,
   "metadata": {},
   "outputs": [
    {
     "name": "stdout",
     "output_type": "stream",
     "text": [
      "2017, 2016, 2015, 2014, 2013, 2012, 2011, 2010, 2009, 2008, 2007, 2006, 2005, Complete!\n"
     ]
    }
   ],
   "source": [
    "dfs = []\n",
    "rows_read = []\n",
    "for yr in reversed(years):\n",
    "    print(yr, end=', ')\n",
    "    df = pd.read_csv('/Archive/'+yr+'_data.csv', index_col=0, parse_dates=['Date'], date_parser=dateparser)\n",
    "    df['Track_Temp'] = df['Track_Temp'].map(lambda x: int(x[:2]) if isNumber(subset(x,2)) else x)\n",
    "    df['Air_Temp'] = df['Air_Temp'].map(lambda x: int(x[:2]) if isNumber(subset(x,2)) else x)\n",
    "    df['Humidity'] = df['Humidity'].map(lambda x: float(x[:2])/100 if isNumber(subset(x,2)) else x)\n",
    "    df['Finish_Time'] = timeparser(df.Time)\n",
    "    df['GP'] = df.TRK.map(lambda x: x+' - ') + df.Track.map(lambda x: x.split(' - ')[1])\n",
    "    df = df.merge(rc, on='GP', how='left')\n",
    "    rows_read.append(len(df))\n",
    "    dfs.append(df)\n",
    "print('Complete!')"
   ]
  },
  {
   "cell_type": "code",
   "execution_count": 9,
   "metadata": {},
   "outputs": [],
   "source": [
    "# save to master CSV\n",
    "result = pd.concat(dfs, ignore_index=True)\n",
    "fn = 'MotoGP_2005_2017.csv'\n",
    "result.to_csv(fn)"
   ]
  }
 ],
 "metadata": {
  "kernelspec": {
   "display_name": "Python 3",
   "language": "python",
   "name": "python3"
  },
  "language_info": {
   "codemirror_mode": {
    "name": "ipython",
    "version": 3
   },
   "file_extension": ".py",
   "mimetype": "text/x-python",
   "name": "python",
   "nbconvert_exporter": "python",
   "pygments_lexer": "ipython3",
   "version": "3.6.4"
  },
  "varInspector": {
   "cols": {
    "lenName": 16,
    "lenType": 16,
    "lenVar": 40
   },
   "kernels_config": {
    "python": {
     "delete_cmd_postfix": "",
     "delete_cmd_prefix": "del ",
     "library": "var_list.py",
     "varRefreshCmd": "print(var_dic_list())"
    },
    "r": {
     "delete_cmd_postfix": ") ",
     "delete_cmd_prefix": "rm(",
     "library": "var_list.r",
     "varRefreshCmd": "cat(var_dic_list()) "
    }
   },
   "types_to_exclude": [
    "module",
    "function",
    "builtin_function_or_method",
    "instance",
    "_Feature"
   ],
   "window_display": false
  }
 },
 "nbformat": 4,
 "nbformat_minor": 2
}
